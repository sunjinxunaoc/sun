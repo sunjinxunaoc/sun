{
 "cells": [
  {
   "cell_type": "code",
   "execution_count": 2,
   "metadata": {},
   "outputs": [
    {
     "name": "stdout",
     "output_type": "stream",
     "text": [
      "请输入半径:3\n",
      "请输入圆柱高:3\n",
      "圆周长为18.85\n",
      "圆面积为28.27\n",
      "球的表面积为113.10\n",
      "球的体积为113.10\n",
      "圆柱体的体积为84.82\n"
     ]
    }
   ],
   "source": [
    "import math\n",
    "r=float(input(\"请输入半径:\"))\n",
    "h=float(input(\"请输入圆柱高:\"))\n",
    "if r<0 or h<0:\n",
    "    print(\"请输入正确参数\")\n",
    "else:\n",
    "    l=math.pi*2*r\n",
    "    s=math.pi*r*r\n",
    "    bs=4*math.pi*r*r\n",
    "    bv=4/3*math.pi*r**3\n",
    "    cv=math.pi*r*r*h\n",
    "    \n",
    "    print(\"圆周长为%.2f\"%l)\n",
    "    print(\"圆面积为%.2f\"%s)\n",
    "    print(\"球的表面积为%.2f\"%bs)\n",
    "    print(\"球的体积为%.2f\"%bv)\n",
    "    print(\"圆柱体的体积为%.2f\"%cv)"
   ]
  },
  {
   "cell_type": "code",
   "execution_count": 3,
   "metadata": {},
   "outputs": [
    {
     "name": "stdout",
     "output_type": "stream",
     "text": [
      "请输入华氏温度：2\n",
      "摄氏温度为-16.7\n"
     ]
    }
   ],
   "source": [
    "F=float(input(\"请输入华氏温度：\"))\n",
    "c=5/9*(F-32)\n",
    "print(\"摄氏温度为%.1f\"%c)"
   ]
  },
  {
   "cell_type": "code",
   "execution_count": 10,
   "metadata": {
    "scrolled": true
   },
   "outputs": [
    {
     "name": "stdout",
     "output_type": "stream",
     "text": [
      "Help on method randrange in random:\n",
      "\n",
      "random.randrange = randrange(start, stop=None, step=1, _int=<class 'int'>) method of random.Random instance\n",
      "    Choose a random item from range(start, stop[, step]).\n",
      "    \n",
      "    This fixes the problem with randint() which includes the\n",
      "    endpoint; in Python this is usually not what you want.\n",
      "\n"
     ]
    }
   ],
   "source": [
    "dir(\"random\")\n",
    "help(\"random.randrange\")"
   ]
  },
  {
   "cell_type": "code",
   "execution_count": null,
   "metadata": {},
   "outputs": [],
   "source": []
  }
 ],
 "metadata": {
  "kernelspec": {
   "display_name": "Python 3",
   "language": "python",
   "name": "python3"
  },
  "language_info": {
   "codemirror_mode": {
    "name": "ipython",
    "version": 3
   },
   "file_extension": ".py",
   "mimetype": "text/x-python",
   "name": "python",
   "nbconvert_exporter": "python",
   "pygments_lexer": "ipython3",
   "version": "3.6.4"
  }
 },
 "nbformat": 4,
 "nbformat_minor": 2
}
