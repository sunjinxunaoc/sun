{
 "cells": [
  {
   "cell_type": "code",
   "execution_count": 2,
   "metadata": {},
   "outputs": [
    {
     "name": "stderr",
     "output_type": "stream",
     "text": [
      "/Users/sun/anaconda3/lib/python3.6/site-packages/matplotlib/cbook/deprecation.py:106: MatplotlibDeprecationWarning: The mpl_toolkits.axes_grid module was deprecated in version 2.1. Use mpl_toolkits.axes_grid1 and mpl_toolkits.axisartist provies the same functionality instead.\n",
      "  warnings.warn(message, mplDeprecation, stacklevel=1)\n"
     ]
    }
   ],
   "source": [
    "%matplotlib inline\n",
    "import numpy as np\n",
    "import aplpy as ap\n",
    "import matplotlib as mpl\n",
    "from matplotlib import pyplot as plt\n",
    "import math\n",
    "\n",
    "mpl.rc(\"font\", family=\"RomanC\", size=15)\n",
    "#mpl.rc(\"axes\", linewidth = 1.0)\n",
    "#mpl.rc(\"lines\", linewidth = 1.0)\n",
    "#mpl.rc(\"xtick.major\", pad = 5, width = 1)\n",
    "#mpl.rc(\"ytick.major\", pad = 5, width = 1)\n",
    "#mpl.rc(\"xtick.minor\", width = 1)\n",
    "#mpl.rc(\"ytick.minor\", width = 1)"
   ]
  },
  {
   "cell_type": "code",
   "execution_count": 3,
   "metadata": {},
   "outputs": [],
   "source": [
    "fitsDir = '../fitsDir/'\n",
    "\n",
    "#ap.make_rgb_cube(['../fitsDir/S140_ha.fits', \n",
    "#                '../fitsDir/S140_i.fits', \n",
    "#                '../fitsDir/S140_b.fits'], \n",
    "#                '../fitsDir/S140_rgb.fits')\n"
   ]
  },
  {
   "cell_type": "code",
   "execution_count": 4,
   "metadata": {},
   "outputs": [],
   "source": [
    "#ap.make_rgb_image('../fitsDir/S140_rgb.fits',\n",
    "#                  '../fitsDir/S140_rgb.png',\n",
    "#                  vmin_r=2000, vmax_r=3000., vmin_g=16000, \n",
    "#                  vmax_g=20000, vmin_b=2400, vmax_b=3060,\n",
    "#                  stretch_r = 'log', stretch_g = 'log', \n",
    "#                  stretch_b = 'log',\n",
    "#                  embed_avm_tags=False)\n"
   ]
  },
  {
   "cell_type": "code",
   "execution_count": 5,
   "metadata": {},
   "outputs": [
    {
     "ename": "OSError",
     "evalue": "File not found: ../fitsDir/S140_b.fits",
     "output_type": "error",
     "traceback": [
      "\u001b[0;31m---------------------------------------------------------------------------\u001b[0m",
      "\u001b[0;31mOSError\u001b[0m                                   Traceback (most recent call last)",
      "\u001b[0;32m<ipython-input-5-f045d0968b97>\u001b[0m in \u001b[0;36m<module>\u001b[0;34m()\u001b[0m\n\u001b[1;32m      1\u001b[0m \u001b[0mfig\u001b[0m \u001b[0;34m=\u001b[0m \u001b[0mplt\u001b[0m\u001b[0;34m.\u001b[0m\u001b[0mfigure\u001b[0m\u001b[0;34m(\u001b[0m\u001b[0mfigsize\u001b[0m \u001b[0;34m=\u001b[0m \u001b[0;34m(\u001b[0m\u001b[0;36m8\u001b[0m\u001b[0;34m,\u001b[0m\u001b[0;36m8\u001b[0m\u001b[0;34m)\u001b[0m\u001b[0;34m)\u001b[0m\u001b[0;34m\u001b[0m\u001b[0m\n\u001b[0;32m----> 2\u001b[0;31m \u001b[0mfb\u001b[0m  \u001b[0;34m=\u001b[0m \u001b[0map\u001b[0m\u001b[0;34m.\u001b[0m\u001b[0mFITSFigure\u001b[0m\u001b[0;34m(\u001b[0m\u001b[0mfitsDir\u001b[0m\u001b[0;34m+\u001b[0m\u001b[0;34m'S140_b.fits'\u001b[0m\u001b[0;34m,\u001b[0m \u001b[0mfigure\u001b[0m \u001b[0;34m=\u001b[0m \u001b[0mfig\u001b[0m\u001b[0;34m)\u001b[0m\u001b[0;34m\u001b[0m\u001b[0m\n\u001b[0m\u001b[1;32m      3\u001b[0m \u001b[0mfb\u001b[0m\u001b[0;34m.\u001b[0m\u001b[0mshow_rgb\u001b[0m\u001b[0;34m(\u001b[0m\u001b[0;34m'../fitsDir/S140_rgb.png'\u001b[0m\u001b[0;34m)\u001b[0m\u001b[0;34m\u001b[0m\u001b[0m\n\u001b[1;32m      4\u001b[0m \u001b[0mfb\u001b[0m\u001b[0;34m.\u001b[0m\u001b[0mtick_labels\u001b[0m\u001b[0;34m.\u001b[0m\u001b[0mset_xformat\u001b[0m\u001b[0;34m(\u001b[0m\u001b[0;34m\"hhmm\"\u001b[0m\u001b[0;34m)\u001b[0m\u001b[0;34m\u001b[0m\u001b[0m\n\u001b[1;32m      5\u001b[0m \u001b[0mfb\u001b[0m\u001b[0;34m.\u001b[0m\u001b[0mtick_labels\u001b[0m\u001b[0;34m.\u001b[0m\u001b[0mset_yformat\u001b[0m\u001b[0;34m(\u001b[0m\u001b[0;34m\"ddmm\"\u001b[0m\u001b[0;34m)\u001b[0m\u001b[0;34m\u001b[0m\u001b[0m\n",
      "\u001b[0;32m~/anaconda3/lib/python3.6/site-packages/aplpy/core.py\u001b[0m in \u001b[0;36m__init__\u001b[0;34m(self, data, hdu, figure, subplot, downsample, north, convention, dimensions, slices, auto_refresh, **kwargs)\u001b[0m\n",
      "\u001b[0;32m~/anaconda3/lib/python3.6/site-packages/aplpy/decorators.py\u001b[0m in \u001b[0;36m_auto_refresh\u001b[0;34m(f, *args, **kwargs)\u001b[0m\n\u001b[1;32m     23\u001b[0m     \u001b[0mmydata\u001b[0m\u001b[0;34m.\u001b[0m\u001b[0mnesting\u001b[0m \u001b[0;34m=\u001b[0m \u001b[0mgetattr\u001b[0m\u001b[0;34m(\u001b[0m\u001b[0mmydata\u001b[0m\u001b[0;34m,\u001b[0m \u001b[0;34m'nesting'\u001b[0m\u001b[0;34m,\u001b[0m \u001b[0;36m0\u001b[0m\u001b[0;34m)\u001b[0m \u001b[0;34m+\u001b[0m \u001b[0;36m1\u001b[0m\u001b[0;34m\u001b[0m\u001b[0m\n\u001b[1;32m     24\u001b[0m     \u001b[0;32mtry\u001b[0m\u001b[0;34m:\u001b[0m\u001b[0;34m\u001b[0m\u001b[0m\n\u001b[0;32m---> 25\u001b[0;31m         \u001b[0;32mreturn\u001b[0m \u001b[0mf\u001b[0m\u001b[0;34m(\u001b[0m\u001b[0;34m*\u001b[0m\u001b[0margs\u001b[0m\u001b[0;34m,\u001b[0m \u001b[0;34m**\u001b[0m\u001b[0mkwargs\u001b[0m\u001b[0;34m)\u001b[0m\u001b[0;34m\u001b[0m\u001b[0m\n\u001b[0m\u001b[1;32m     26\u001b[0m     \u001b[0;32mfinally\u001b[0m\u001b[0;34m:\u001b[0m\u001b[0;34m\u001b[0m\u001b[0m\n\u001b[1;32m     27\u001b[0m         \u001b[0mmydata\u001b[0m\u001b[0;34m.\u001b[0m\u001b[0mnesting\u001b[0m \u001b[0;34m-=\u001b[0m \u001b[0;36m1\u001b[0m\u001b[0;34m\u001b[0m\u001b[0m\n",
      "\u001b[0;32m~/anaconda3/lib/python3.6/site-packages/aplpy/core.py\u001b[0m in \u001b[0;36m__init__\u001b[0;34m(self, data, hdu, figure, subplot, downsample, north, convention, dimensions, slices, auto_refresh, **kwargs)\u001b[0m\n\u001b[1;32m    215\u001b[0m         \u001b[0;32melse\u001b[0m\u001b[0;34m:\u001b[0m\u001b[0;34m\u001b[0m\u001b[0m\n\u001b[1;32m    216\u001b[0m             self._data, self._header, self._wcs = self._get_hdu(data, hdu, north, \\\n\u001b[0;32m--> 217\u001b[0;31m                 convention=convention, dimensions=dimensions, slices=slices)\n\u001b[0m\u001b[1;32m    218\u001b[0m             \u001b[0mself\u001b[0m\u001b[0;34m.\u001b[0m\u001b[0m_wcs\u001b[0m\u001b[0;34m.\u001b[0m\u001b[0mnx\u001b[0m \u001b[0;34m=\u001b[0m \u001b[0mself\u001b[0m\u001b[0;34m.\u001b[0m\u001b[0m_header\u001b[0m\u001b[0;34m[\u001b[0m\u001b[0;34m'NAXIS%i'\u001b[0m \u001b[0;34m%\u001b[0m \u001b[0;34m(\u001b[0m\u001b[0mdimensions\u001b[0m\u001b[0;34m[\u001b[0m\u001b[0;36m0\u001b[0m\u001b[0;34m]\u001b[0m \u001b[0;34m+\u001b[0m \u001b[0;36m1\u001b[0m\u001b[0;34m)\u001b[0m\u001b[0;34m]\u001b[0m\u001b[0;34m\u001b[0m\u001b[0m\n\u001b[1;32m    219\u001b[0m             \u001b[0mself\u001b[0m\u001b[0;34m.\u001b[0m\u001b[0m_wcs\u001b[0m\u001b[0;34m.\u001b[0m\u001b[0mny\u001b[0m \u001b[0;34m=\u001b[0m \u001b[0mself\u001b[0m\u001b[0;34m.\u001b[0m\u001b[0m_header\u001b[0m\u001b[0;34m[\u001b[0m\u001b[0;34m'NAXIS%i'\u001b[0m \u001b[0;34m%\u001b[0m \u001b[0;34m(\u001b[0m\u001b[0mdimensions\u001b[0m\u001b[0;34m[\u001b[0m\u001b[0;36m1\u001b[0m\u001b[0;34m]\u001b[0m \u001b[0;34m+\u001b[0m \u001b[0;36m1\u001b[0m\u001b[0;34m)\u001b[0m\u001b[0;34m]\u001b[0m\u001b[0;34m\u001b[0m\u001b[0m\n",
      "\u001b[0;32m~/anaconda3/lib/python3.6/site-packages/aplpy/core.py\u001b[0m in \u001b[0;36m_get_hdu\u001b[0;34m(self, data, hdu, north, convention, dimensions, slices)\u001b[0m\n\u001b[1;32m    297\u001b[0m             \u001b[0;31m# Check file exists\u001b[0m\u001b[0;34m\u001b[0m\u001b[0;34m\u001b[0m\u001b[0m\n\u001b[1;32m    298\u001b[0m             \u001b[0;32mif\u001b[0m \u001b[0;32mnot\u001b[0m \u001b[0mos\u001b[0m\u001b[0;34m.\u001b[0m\u001b[0mpath\u001b[0m\u001b[0;34m.\u001b[0m\u001b[0mexists\u001b[0m\u001b[0;34m(\u001b[0m\u001b[0mfilename\u001b[0m\u001b[0;34m)\u001b[0m\u001b[0;34m:\u001b[0m\u001b[0;34m\u001b[0m\u001b[0m\n\u001b[0;32m--> 299\u001b[0;31m                 \u001b[0;32mraise\u001b[0m \u001b[0mIOError\u001b[0m\u001b[0;34m(\u001b[0m\u001b[0;34m\"File not found: \"\u001b[0m \u001b[0;34m+\u001b[0m \u001b[0mfilename\u001b[0m\u001b[0;34m)\u001b[0m\u001b[0;34m\u001b[0m\u001b[0m\n\u001b[0m\u001b[1;32m    300\u001b[0m \u001b[0;34m\u001b[0m\u001b[0m\n\u001b[1;32m    301\u001b[0m             \u001b[0;31m# Read in FITS file\u001b[0m\u001b[0;34m\u001b[0m\u001b[0;34m\u001b[0m\u001b[0m\n",
      "\u001b[0;31mOSError\u001b[0m: File not found: ../fitsDir/S140_b.fits"
     ]
    },
    {
     "data": {
      "text/plain": [
       "<matplotlib.figure.Figure at 0x18180f44e0>"
      ]
     },
     "metadata": {},
     "output_type": "display_data"
    }
   ],
   "source": [
    "fig = plt.figure(figsize = (8,8))\n",
    "fb  = ap.FITSFigure(fitsDir+'S140_b.fits', figure = fig)\n",
    "fb.show_rgb('../fitsDir/S140_rgb.png')\n",
    "fb.tick_labels.set_xformat(\"hhmm\")\n",
    "fb.tick_labels.set_yformat(\"ddmm\")\n",
    "fb.ticks.set_color(\"white\")\n",
    "fb.ticks.set_length(10)\n",
    "fig.savefig('../epsFigs/S140_rgb.eps', bbox_inches='tight',\n",
    "            papertype='a2')\n",
    "fig.savefig('../epsFigs/S140_rgb.pdf', bbox_inches='tight',\n",
    "            papertype='a2')\n",
    "fig.savefig('../epsFigs/S140_rgb.png', bbox_inches='tight', dpi = 150,\n",
    "            papertype='a2')"
   ]
  },
  {
   "cell_type": "code",
   "execution_count": null,
   "metadata": {},
   "outputs": [
    {
     "data": {
      "text/plain": [
       "<matplotlib.text.Text at 0x113d59438>"
      ]
     },
     "execution_count": 2,
     "metadata": {},
     "output_type": "execute_result"
    }
   ],
   "source": [
    "from matplotlib.ticker import AutoMinorLocator\n",
    "mpl.rc(\"font\", family=\"RomanC\", size=17)\n",
    "\n",
    "fig = plt.figure(1, figsize=(6,6))\n",
    "ax1 = fig.add_axes([0.1,0.1,0.8,0.8])\n",
    "x = np.logspace(1, 1.5, 100)\n",
    "y = np.exp(x)\n",
    "ax1.plot(x,y)\n",
    "ax1.set_yscale('log')\n",
    "ax1.set_ylim(1e4,1e16)\n",
    "ax1.set_xticks(list(np.logspace(4,16,9)))\n",
    "ax1.yaxis.set_minor_locator(mpl.ticker.LogLocator(base=10.0, \n",
    "                                                  subs=(1,2,3,4,5,6,7,8,9,)))\n",
    "\n",
    "#ylocator = AutoMinorLocator()\n",
    "#ax1.yaxis.set_minor_locator(ylocator)\n",
    "ax1.text(20, 1e7, '$10^{1234567}$')"
   ]
  },
  {
   "cell_type": "code",
   "execution_count": null,
   "metadata": {
    "collapsed": true
   },
   "outputs": [],
   "source": []
  },
  {
   "cell_type": "code",
   "execution_count": null,
   "metadata": {
    "collapsed": true
   },
   "outputs": [],
   "source": []
  }
 ],
 "metadata": {
  "anaconda-cloud": {},
  "kernelspec": {
   "display_name": "Python 3",
   "language": "python",
   "name": "python3"
  },
  "language_info": {
   "codemirror_mode": {
    "name": "ipython",
    "version": 3
   },
   "file_extension": ".py",
   "mimetype": "text/x-python",
   "name": "python",
   "nbconvert_exporter": "python",
   "pygments_lexer": "ipython3",
   "version": "3.6.4"
  }
 },
 "nbformat": 4,
 "nbformat_minor": 1
}
