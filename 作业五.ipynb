{
 "cells": [
  {
   "cell_type": "code",
   "execution_count": 1,
   "metadata": {},
   "outputs": [],
   "source": [
    "def evalQuadratic(a, b, c, x):\n",
    "    return a*x**2+b*x+c\n",
    "print(evalQuadratic(1, 2, 3, 4))"
   ]
  },
  {
   "cell_type": "code",
   "execution_count": 2,
   "metadata": {},
   "outputs": [],
   "source": [
    "def isprime(x):\n",
    "    for i in range(2,x):\n",
    "        if x%i==0:\n",
    "            return False\n",
    "        \n",
    "    return True#此处使用else会是程序判断素数出现错误\n",
    "def allprime(n):\n",
    "    l=[]\n",
    "    for i in range(2,n):\n",
    "        if isprime(i):\n",
    "            l.append(i)\n",
    "    return l\n",
    "print(isprime(21),isprime(13))\n",
    "\n",
    "print(allprime(100))"
   ]
  },
  {
   "cell_type": "code",
   "execution_count": 11,
   "metadata": {},
   "outputs": [
    {
     "name": "stdout",
     "output_type": "stream",
     "text": [
      "81\n",
      "18\n",
      "3000\n",
      "3.96\n"
     ]
    }
   ],
   "source": [
    "import calculator as cal\n",
    "print(cal.add(25,56))\n",
    "print(cal.sub(86,68))\n",
    "print(cal.mult(50,60))\n",
    "print(cal.div(99,25))"
   ]
  },
  {
   "cell_type": "code",
   "execution_count": 2,
   "metadata": {},
   "outputs": [
    {
     "name": "stdout",
     "output_type": "stream",
     "text": [
      "[0, 15, 30, 45, 60, 75, 90]\n"
     ]
    }
   ],
   "source": [
    "def func(x):\n",
    "    if x%3==0 and x%5==0:\n",
    "        return True\n",
    "\n",
    "print(list(filter(func,range(0,101))))"
   ]
  },
  {
   "cell_type": "code",
   "execution_count": 19,
   "metadata": {},
   "outputs": [
    {
     "name": "stdout",
     "output_type": "stream",
     "text": [
      "2500\n"
     ]
    }
   ],
   "source": [
    "def sumodd(x,y):\n",
    "    return x+y\n",
    "def odd(a,b):\n",
    "    l=[]\n",
    "    for i in range(a,b+1):\n",
    "        if i%2==1:\n",
    "            l.append(i)\n",
    "    return l\n",
    "    \n",
    "from functools import reduce\n",
    "print(reduce(sumodd,odd(1,100)))"
   ]
  },
  {
   "cell_type": "code",
   "execution_count": 25,
   "metadata": {},
   "outputs": [
    {
     "name": "stdout",
     "output_type": "stream",
     "text": [
      "[0, 8, 64, 216, 512, 1000, 1728, 2744, 4096, 5832, 8000, 10648, 13824, 17576, 21952, 27000, 32768, 39304, 46656, 54872, 64000, 74088, 85184, 97336, 110592, 125000, 140608, 157464, 175616, 195112, 216000, 238328, 262144, 287496, 314432, 343000, 373248, 405224, 438976, 474552, 512000, 551368, 592704, 636056, 681472, 729000, 778688, 830584, 884736, 941192, 1000000]\n"
     ]
    }
   ],
   "source": [
    "def even(a,b):\n",
    "    l=[]\n",
    "    for i in range(a,b+1):\n",
    "        if i%2==0:\n",
    "            l.append(i)\n",
    "    return l\n",
    "def cube(x):\n",
    "    return x**3\n",
    "print(list(map(cube,even(0,100))))"
   ]
  },
  {
   "cell_type": "code",
   "execution_count": 28,
   "metadata": {},
   "outputs": [
    {
     "name": "stdout",
     "output_type": "stream",
     "text": [
      "2\n",
      "6\n",
      "3\n",
      "1\n"
     ]
    }
   ],
   "source": [
    "def gcd(a,b):   #迭代算法 递归不会做\n",
    "    r=1  \n",
    "    while r!=0:  \n",
    "        r=a%b  \n",
    "        a=b  \n",
    "        b=r    \n",
    "    return a\n",
    "print(gcd(2,12))\n",
    "print(gcd(6,12))\n",
    "print(gcd(9,12))\n",
    "print(gcd(17,12))"
   ]
  },
  {
   "cell_type": "code",
   "execution_count": 2,
   "metadata": {},
   "outputs": [
    {
     "name": "stdout",
     "output_type": "stream",
     "text": [
      "****a*****\n"
     ]
    }
   ],
   "source": [
    "print(\"{0:*^10}\".format(\"a\"))"
   ]
  },
  {
   "cell_type": "code",
   "execution_count": 3,
   "metadata": {},
   "outputs": [
    {
     "data": {
      "text/plain": [
       "['DEFAULT_DICT',\n",
       " 'DEFAULT_DICT_NAME',\n",
       " 'DICT_WRITING',\n",
       " 'PY2',\n",
       " 'Tokenizer',\n",
       " '__builtins__',\n",
       " '__cached__',\n",
       " '__doc__',\n",
       " '__file__',\n",
       " '__license__',\n",
       " '__loader__',\n",
       " '__name__',\n",
       " '__package__',\n",
       " '__path__',\n",
       " '__spec__',\n",
       " '__version__',\n",
       " '_compat',\n",
       " '_get_abs_path',\n",
       " '_lcut',\n",
       " '_lcut_all',\n",
       " '_lcut_for_search',\n",
       " '_lcut_for_search_no_hmm',\n",
       " '_lcut_no_hmm',\n",
       " '_pcut',\n",
       " '_pcut_for_search',\n",
       " '_replace_file',\n",
       " 'absolute_import',\n",
       " 'add_word',\n",
       " 'calc',\n",
       " 'cut',\n",
       " 'cut_for_search',\n",
       " 'default_encoding',\n",
       " 'default_logger',\n",
       " 'del_word',\n",
       " 'disable_parallel',\n",
       " 'dt',\n",
       " 'enable_parallel',\n",
       " 'finalseg',\n",
       " 'get_DAG',\n",
       " 'get_FREQ',\n",
       " 'get_dict_file',\n",
       " 'get_module_res',\n",
       " 'initialize',\n",
       " 'iteritems',\n",
       " 'iterkeys',\n",
       " 'itervalues',\n",
       " 'lcut',\n",
       " 'lcut_for_search',\n",
       " 'load_userdict',\n",
       " 'log',\n",
       " 'log_console',\n",
       " 'logging',\n",
       " 'marshal',\n",
       " 'md5',\n",
       " 'os',\n",
       " 'pkg_resources',\n",
       " 'pool',\n",
       " 're',\n",
       " 're_eng',\n",
       " 're_han_cut_all',\n",
       " 're_han_default',\n",
       " 're_skip_cut_all',\n",
       " 're_skip_default',\n",
       " 're_userdict',\n",
       " 'resolve_filename',\n",
       " 'setLogLevel',\n",
       " 'set_dictionary',\n",
       " 'strdecode',\n",
       " 'string_types',\n",
       " 'suggest_freq',\n",
       " 'sys',\n",
       " 'tempfile',\n",
       " 'text_type',\n",
       " 'threading',\n",
       " 'time',\n",
       " 'tokenize',\n",
       " 'unicode_literals',\n",
       " 'user_word_tag_tab',\n",
       " 'xrange']"
      ]
     },
     "execution_count": 3,
     "metadata": {},
     "output_type": "execute_result"
    }
   ],
   "source": [
    "import jieba\n",
    "dir(jieba)"
   ]
  },
  {
   "cell_type": "code",
   "execution_count": 4,
   "metadata": {},
   "outputs": [
    {
     "data": {
      "text/plain": [
       "['_STRUCT_TM_ITEMS',\n",
       " '__doc__',\n",
       " '__loader__',\n",
       " '__name__',\n",
       " '__package__',\n",
       " '__spec__',\n",
       " 'altzone',\n",
       " 'asctime',\n",
       " 'clock',\n",
       " 'ctime',\n",
       " 'daylight',\n",
       " 'get_clock_info',\n",
       " 'gmtime',\n",
       " 'localtime',\n",
       " 'mktime',\n",
       " 'monotonic',\n",
       " 'perf_counter',\n",
       " 'process_time',\n",
       " 'sleep',\n",
       " 'strftime',\n",
       " 'strptime',\n",
       " 'struct_time',\n",
       " 'time',\n",
       " 'timezone',\n",
       " 'tzname',\n",
       " 'tzset']"
      ]
     },
     "execution_count": 4,
     "metadata": {},
     "output_type": "execute_result"
    }
   ],
   "source": [
    "import time \n",
    "dir(time\n",
    "   )"
   ]
  },
  {
   "cell_type": "code",
   "execution_count": 6,
   "metadata": {},
   "outputs": [
    {
     "ename": "SyntaxError",
     "evalue": "can't assign to literal (<ipython-input-6-f623ea077d36>, line 1)",
     "output_type": "error",
     "traceback": [
      "\u001b[0;36m  File \u001b[0;32m\"<ipython-input-6-f623ea077d36>\"\u001b[0;36m, line \u001b[0;32m1\u001b[0m\n\u001b[0;31m    for \"bob\" in range(\"zabob\"):\u001b[0m\n\u001b[0m       ^\u001b[0m\n\u001b[0;31mSyntaxError\u001b[0m\u001b[0;31m:\u001b[0m can't assign to literal\n"
     ]
    }
   ],
   "source": [
    "for \"bob\" in range(\"zabob\"):\n",
    "    print(1)"
   ]
  },
  {
   "cell_type": "code",
   "execution_count": 7,
   "metadata": {},
   "outputs": [
    {
     "data": {
      "text/plain": [
       "2"
      ]
     },
     "execution_count": 7,
     "metadata": {},
     "output_type": "execute_result"
    }
   ],
   "source": [
    "s=\"azdbobobaaaa\"\n",
    "sum(s[i:].startswith(\"bob\")for i in range(len(s)))"
   ]
  },
  {
   "cell_type": "code",
   "execution_count": null,
   "metadata": {},
   "outputs": [],
   "source": []
  }
 ],
 "metadata": {
  "kernelspec": {
   "display_name": "Python 3",
   "language": "python",
   "name": "python3"
  },
  "language_info": {
   "codemirror_mode": {
    "name": "ipython",
    "version": 3
   },
   "file_extension": ".py",
   "mimetype": "text/x-python",
   "name": "python",
   "nbconvert_exporter": "python",
   "pygments_lexer": "ipython3",
   "version": "3.6.4"
  }
 },
 "nbformat": 4,
 "nbformat_minor": 2
}
