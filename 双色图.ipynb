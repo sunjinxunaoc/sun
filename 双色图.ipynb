{
 "cells": [
  {
   "cell_type": "code",
   "execution_count": 1,
   "metadata": {},
   "outputs": [
    {
     "ename": "ModuleNotFoundError",
     "evalue": "No module named 'astroquery'",
     "output_type": "error",
     "traceback": [
      "\u001b[0;31m---------------------------------------------------------------------------\u001b[0m",
      "\u001b[0;31mModuleNotFoundError\u001b[0m                       Traceback (most recent call last)",
      "\u001b[0;32m<ipython-input-1-f914deae8dde>\u001b[0m in \u001b[0;36m<module>\u001b[0;34m()\u001b[0m\n\u001b[1;32m     10\u001b[0m \u001b[0;32mfrom\u001b[0m \u001b[0mastropy\u001b[0m \u001b[0;32mimport\u001b[0m \u001b[0mcoordinates\u001b[0m \u001b[0;32mas\u001b[0m \u001b[0mcoords\u001b[0m\u001b[0;34m\u001b[0m\u001b[0m\n\u001b[1;32m     11\u001b[0m \u001b[0;32mfrom\u001b[0m \u001b[0mastropy\u001b[0m \u001b[0;32mimport\u001b[0m \u001b[0munits\u001b[0m \u001b[0;32mas\u001b[0m \u001b[0mu\u001b[0m\u001b[0;34m\u001b[0m\u001b[0m\n\u001b[0;32m---> 12\u001b[0;31m \u001b[0;32mfrom\u001b[0m \u001b[0mastroquery\u001b[0m\u001b[0;34m.\u001b[0m\u001b[0mvizier\u001b[0m \u001b[0;32mimport\u001b[0m \u001b[0mVizier\u001b[0m\u001b[0;34m\u001b[0m\u001b[0m\n\u001b[0m",
      "\u001b[0;31mModuleNotFoundError\u001b[0m: No module named 'astroquery'"
     ]
    }
   ],
   "source": [
    "%matplotlib inline\n",
    "import os\n",
    "import math\n",
    "import time\n",
    "import numpy as np\n",
    "import matplotlib as mpl\n",
    "import matplotlib.pyplot as plt\n",
    "from astropy.io import ascii\n",
    "from astropy.table import Table, Column, vstack, join\n",
    "from astropy import coordinates as coords\n",
    "from astropy import units as u\n",
    "from astroquery.vizier import Vizier"
   ]
  },
  {
   "cell_type": "code",
   "execution_count": 75,
   "metadata": {},
   "outputs": [],
   "source": [
    "Vizier.TIMEOUT = 100000\n",
    "Vizier.ROW_LIMIT = -1\n",
    "\n",
    "\n",
    "l0,b0 = 50.972,0.078\n",
    "wid = hei = 57.75*u.arcmin\n",
    "\n",
    "coor0 = coords.SkyCoord(l0, b0, frame = 'galactic',\n",
    "                       unit = (u.deg,u.deg))\n",
    "\n",
    "\n",
    "glmPSC = Vizier.query_region(coor0.galactic, width = wid, height = hei, \n",
    "                             catalog = 'II/293/glimpse')[0]\n",
    "\n",
    "\n",
    "mipsPSC = Vizier.query_region(coor0.galactic, width = wid, height = hei, \n",
    "                             catalog = 'mipsgal')[0]\n",
    "mipsPSC = mipsPSC['MIPSGAL', 'S24', 'e_S24', '__24_', 'e__24_',  'GLIMPSE']"
   ]
  },
  {
   "cell_type": "code",
   "execution_count": 76,
   "metadata": {
    "collapsed": true
   },
   "outputs": [],
   "source": [
    "glmPSC = glmPSC[glmPSC['Glon'] > 50.492]\n",
    "glmPSC = glmPSC[glmPSC['Glon'] < 51.452]\n",
    "glmPSC = glmPSC[glmPSC['Glat'] > -0.402]\n",
    "glmPSC = glmPSC[glmPSC['Glat'] <  0.558]\n",
    "glmPSC = glmPSC['GLIMPSE', 'Glon', 'Glat', \n",
    "                'RAJ2000', 'DEJ2000','csf',  \n",
    "                '_3.6mag', 'e_3.6mag', '_4.5mag', 'e_4.5mag',  \n",
    "                '_5.8mag', 'e_5.8mag',  '_8.0mag', 'e_8.0mag', \n",
    "                'F_3.6_', 'e_F_3.6_', 'F_4.5_', \n",
    "                'e_F_4.5_', 'F_5.8_', 'e_F_5.8_', 'F_8.0_', 'e_F_8.0_']"
   ]
  },
  {
   "cell_type": "code",
   "execution_count": 77,
   "metadata": {},
   "outputs": [
    {
     "name": "stderr",
     "output_type": "stream",
     "text": [
      "WARNING: MergeConflictWarning: Cannot merge meta key 'ucd' types <class 'str'> and <class 'str'>, choosing ucd='ID_ALTERNATIVE' [astropy.utils.metadata]\n",
      "WARNING: MergeConflictWarning: In merged column 'GLIMPSE' the 'description' attribute does not match ([G+.0-9-] Source name (GLLL.llll+BB.bbbb) != ? GLIMPSE name (GLLL.llll+BB.bbbb, Cat. II/293)).  Using ? GLIMPSE name (GLLL.llll+BB.bbbb, Cat. II/293) for merged output [astropy.utils.metadata]\n",
      "WARNING: MergeConflictWarning: Cannot merge meta key 'name' types <class 'str'> and <class 'str'>, choosing name='J/AJ/149/64/catalog' [astropy.utils.metadata]\n",
      "WARNING: MergeConflictWarning: Cannot merge meta key 'description' types <class 'str'> and <class 'str'>, choosing description='MIPSGAL 24{mu}m point source catalog (2015-05-22 version)' [astropy.utils.metadata]\n",
      "WARNING: MergeConflictWarning: Cannot merge meta key 'ID' types <class 'str'> and <class 'str'>, choosing ID='J_AJ_149_64_catalog' [astropy.utils.metadata]\n"
     ]
    }
   ],
   "source": [
    "spitzerPSC = join(glmPSC, mipsPSC, keys = 'GLIMPSE',\n",
    "                 join_type = 'left')"
   ]
  },
  {
   "cell_type": "code",
   "execution_count": 78,
   "metadata": {},
   "outputs": [
    {
     "name": "stderr",
     "output_type": "stream",
     "text": [
      "/Users/wuyingtianhua/anaconda/lib/python3.5/site-packages/astropy/table/column.py:928: RuntimeWarning: invalid value encountered in greater_equal\n",
      "  return getattr(self.data, oper)(other)\n"
     ]
    }
   ],
   "source": [
    "spitzerPSC['_3.6mag'].mask[spitzerPSC['e_3.6mag']>=0.2]=True\n",
    "spitzerPSC['_4.5mag'].mask[spitzerPSC['e_4.5mag']>=0.2]=True\n",
    "spitzerPSC['_5.8mag'].mask[spitzerPSC['e_5.8mag']>=0.2]=True\n",
    "spitzerPSC['_8.0mag'].mask[spitzerPSC['e_8.0mag']>=0.2]=True\n",
    "spitzerPSC['__24_'].mask[spitzerPSC['e__24_']>=0.2]=True\n",
    "spitzerPSC['e_3.6mag'].mask[spitzerPSC['e_3.6mag']>=0.2]=True\n",
    "spitzerPSC['e_4.5mag'].mask[spitzerPSC['e_4.5mag']>=0.2]=True\n",
    "spitzerPSC['e_5.8mag'].mask[spitzerPSC['e_5.8mag']>=0.2]=True\n",
    "spitzerPSC['e_8.0mag'].mask[spitzerPSC['e_8.0mag']>=0.2]=True\n",
    "spitzerPSC['e__24_'].mask[spitzerPSC['e__24_']>=0.2]=True\n",
    "# spitzerPSC['Jmag'].mask[spitzerPSC['e_Jmag']>=0.1]=True\n",
    "# spitzerPSC['Hmag'].mask[spitzerPSC['e_Hmag']>=0.1]=True\n",
    "# spitzerPSC['Kmag'].mask[spitzerPSC['e_Kmag']>=0.1]=True\n",
    "# spitzerPSC['e_Jmag'].mask[spitzerPSC['e_Jmag']>=0.1]=True\n",
    "# spitzerPSC['e_Hmag'].mask[spitzerPSC['e_Hmag']>=0.1]=True\n",
    "# spitzerPSC['e_Kmag'].mask[spitzerPSC['e_Kmag']>=0.1]=True"
   ]
  },
  {
   "cell_type": "code",
   "execution_count": 79,
   "metadata": {
    "collapsed": true
   },
   "outputs": [],
   "source": [
    "AJ = 0.282\n",
    "AH = 0.175\n",
    "AK = 0.112\n",
    "AI1 = 0.632*AK\n",
    "AI2 = 0.53*AK\n",
    "AI3 = 0.49*AK\n",
    "AI4 = 0.49*AK\n",
    "AM1 = 0.48*AK"
   ]
  },
  {
   "cell_type": "code",
   "execution_count": 80,
   "metadata": {
    "collapsed": true
   },
   "outputs": [],
   "source": [
    "c_36_45 = spitzerPSC['_3.6mag'] - spitzerPSC['_4.5mag']\n",
    "c_36_58 = spitzerPSC['_3.6mag'] - spitzerPSC['_5.8mag']\n",
    "c_36_80 = spitzerPSC['_3.6mag'] - spitzerPSC['_8.0mag']\n",
    "c_45_58 = spitzerPSC['_4.5mag'] - spitzerPSC['_5.8mag']\n",
    "c_45_80 = spitzerPSC['_4.5mag'] - spitzerPSC['_8.0mag']\n",
    "c_58_80 = spitzerPSC['_5.8mag'] - spitzerPSC['_8.0mag']\n",
    "# c_J_H   = spitzerPSC['Jmag'] - spitzerPSC['Hmag'] \n",
    "# c_J_K   = spitzerPSC['Jmag'] - spitzerPSC['Kmag']\n",
    "# c_H_K   = spitzerPSC['Hmag'] - spitzerPSC['Kmag']\n",
    "# c_K_36  = spitzerPSC['Kmag'] - spitzerPSC['_3.6mag']\n",
    "c_36_24 = spitzerPSC['_3.6mag'] - spitzerPSC['__24_']\n",
    "c_45_24 = spitzerPSC['_4.5mag'] - spitzerPSC['__24_']\n",
    "c_58_24 = spitzerPSC['_5.8mag'] - spitzerPSC['__24_']\n",
    "c_80_24 = spitzerPSC['_8.0mag'] - spitzerPSC['__24_']\n",
    "c_36_45.name = 'c_36_45'\n",
    "c_36_58.name = 'c_36_58'\n",
    "c_36_80.name = 'c_36_80'\n",
    "c_45_58.name = 'c_45_58'\n",
    "c_45_80.name = 'c_45_80'\n",
    "c_58_80.name = 'c_58_80'\n",
    "# c_J_H.name = 'c_J_H'\n",
    "# c_J_K.name = 'c_J_K'\n",
    "# c_H_K.name = 'c_H_K'\n",
    "# c_K_36.name = 'c_K_36 '\n",
    "c_36_24.name = 'c_36_24'\n",
    "c_45_24.name = 'c_45_24'\n",
    "c_58_24.name = 'c_58_24'\n",
    "c_80_24.name = 'c_80_24'"
   ]
  },
  {
   "cell_type": "code",
   "execution_count": 81,
   "metadata": {},
   "outputs": [],
   "source": [
    "A = (AJ-AH)/(AH-AK)\n",
    "B = (AI1-AI2)/(AH-AK)\n",
    "C = (AK-AI1)/(AH-AK)\n",
    "# c_H_K0 = (c_J_H-A*c_H_K-0.52)/(0.58-A)\n",
    "\n",
    "# c_H_K0[spitzerPSC['Jmag'].mask]=(1.33*(B*c_H_K[spitzerPSC['Jmag'].mask]-\n",
    "#                                 c_36_45[spitzerPSC['Jmag'].mask])-0.133)/(1.33*B-1)\n",
    "# c_H_K0.name = 'c_H_K0'\n",
    "# c_K_36_0 = c_K_36-(c_H_K-c_H_K0)*C\n",
    "# c_K_36_0.name = 'c_K_36_0'\n",
    "# c_36_45_0 = c_36_45-(c_H_K-c_H_K0)*B\n",
    "# c_36_45_0.name = 'c_36_45_0'\n",
    "# m36_0 = spitzerPSC['_3.6mag']-(c_H_K-c_H_K0)*AI1/(AH-AK)\n",
    "# m36_0.name = 'm36_0'"
   ]
  },
  {
   "cell_type": "code",
   "execution_count": 82,
   "metadata": {},
   "outputs": [],
   "source": [
    "sig_I1_I2 = np.sqrt(spitzerPSC['e_3.6mag']**2+spitzerPSC['e_4.5mag']**2)\n",
    "\n",
    "sig_I1_I2.name = 'sig_I1_I2'\n",
    "sig_I2_I3 = np.sqrt(spitzerPSC['e_4.5mag']**2+ spitzerPSC['e_5.8mag']**2)\n",
    "\n",
    "sig_I2_I3.name = 'sig_I2_I3'\n",
    "sig_I2_I4 = np.sqrt(spitzerPSC['e_4.5mag']**2+spitzerPSC['e_8.0mag']**2)\n",
    "\n",
    "sig_I2_I4.name = 'sig_I2_I4'\n",
    "sig_I1_I3 = np.sqrt(spitzerPSC['e_3.6mag']**2+spitzerPSC['e_5.8mag']**2)\n",
    "\n",
    "sig_I1_I3.name = 'sig_I1_I3'\n",
    "# sig_ks_I1 =  np.sqrt(spitzerPSC['e_3.6mag']**2+spitzerPSC['e_Kmag']**2)\n",
    "\n",
    "# sig_ks_I1.name = 'sig_ks_I1'\n",
    "sig_I3_I4 =  np.sqrt(spitzerPSC['e_5.8mag']**2+spitzerPSC['e_8.0mag']**2)\n",
    "\n",
    "sig_I3_I4.name = 'sig_I3_I4'"
   ]
  },
  {
   "cell_type": "code",
   "execution_count": 83,
   "metadata": {},
   "outputs": [],
   "source": [
    "yso_type = []\n",
    "for isour in range(len(spitzerPSC)):\n",
    "    if (spitzerPSC['__24_'][isour] < 7 and\n",
    "        c_36_58[isour] > 0.5 and \n",
    "        c_45_24[isour] > 4.5 and \n",
    "        c_80_24[isour] > 4.0):\n",
    "        yso_type.append('ClassI')\n",
    "        \n",
    "    elif (c_45_58[isour] < (1.05/1.2)*(c_58_80[isour]-1) and \n",
    "        c_45_58[isour] < 1.05 and\n",
    "        c_58_80[isour] > 1 and\n",
    "        spitzerPSC['_4.5mag'][isour] > 11.5):\n",
    "        yso_type.append('PAH_GAL')\n",
    "        \n",
    "    elif (c_36_58[isour] < (1.5/2)*(c_45_80[isour]-1) and \n",
    "          c_36_58[isour] < 1.5 and\n",
    "          c_45_80[isour] > 1 and\n",
    "          spitzerPSC['_4.5mag'][isour] > 11.5):\n",
    "        yso_type.append('PAH_GAL')\n",
    "        \n",
    "    elif (c_45_80[isour] > 0.5 and\n",
    "         spitzerPSC['_4.5mag'][isour] > 13.5+(c_45_80[isour]-2.3)/0.4 and \n",
    "         spitzerPSC['_4.5mag'][isour] > 13.5 and \n",
    "         (spitzerPSC['_4.5mag'][isour] > 14.5-(c_45_80[isour]-1.2)/0.3) or\n",
    "         spitzerPSC['_4.5mag'][isour]>14+(c_45_80[isour]-0.5) or \n",
    "         spitzerPSC['_4.5mag'][isour] > 14.5):\n",
    "        yso_type.append('AGN_GAL')\n",
    "    \n",
    "    elif (c_36_45[isour] > (1.2/0.55)*(c_45_58[isour]-0.3)+0.8 and\n",
    "         c_45_58[isour] <= 0.85 and \n",
    "         c_36_45[isour] > 1.05):\n",
    "        yso_type.append('Shock_Knots')\n",
    "        \n",
    "    elif (c_36_45[isour] - sig_I1_I2[isour] <= 1.4*(c_45_58[isour]+sig_I2_I3[isour] - 0.7)+0.15 and\n",
    "         c_36_45[isour] - sig_I1_I2[isour] <= 1.65):\n",
    "        yso_type.append('PAH_Knots')\n",
    "        \n",
    "    elif (c_58_80.mask[isour] == False and \n",
    "        c_45_58[isour] > 0.7 and \n",
    "        c_36_45[isour] > 0.7):\n",
    "        yso_type.append('ClassI')\n",
    "        \n",
    "    elif (c_58_80.mask[isour] == False and \n",
    "        c_45_80[isour] - sig_I2_I4[isour] > 0.5 and \n",
    "         c_36_58[isour] - sig_I1_I3[isour] > 0.35 and \n",
    "         c_36_58[isour]+sig_I1_I3[isour] <= 0.14/0.04*(c_45_80[isour] - sig_I2_I4[isour]-0.5)+0.5 and\n",
    "         c_36_45[isour]-sig_I1_I2[isour] > 0.15):\n",
    "        yso_type.append('ClassII')\n",
    "        \n",
    "#     elif (c_58_80.mask[isour] == True and \n",
    "#          c_36_45_0[isour] - sig_I1_I2[isour] > 0.101 and \n",
    "#          c_K_36_0[isour] - sig_ks_I1[isour] > 0 and \n",
    "#          c_K_36_0[isour] - sig_ks_I1[isour] > -2.85714*(c_36_45_0[isour] - sig_I1_I2[isour]-0.101)+0.5 and \n",
    "#          c_K_36_0[isour] - sig_ks_I1[isour] > -2.85714*(c_36_45_0[isour] - sig_I1_I2[isour]-0.401)+1.7 and\n",
    "#          m36_0[isour] < 15):\n",
    "#         yso_type.append('ClassI')\n",
    "                \n",
    "    elif (spitzerPSC['__24_'][isour] < 7.0 and \n",
    "         ((c_36_24[isour] > 4.5 and c_58_24.mask[isour] and c_45_24.mask[isour] and c_80_24.mask[isour]) or \n",
    "         (c_45_24[isour] > 4.5 and c_58_24.mask[isour] and c_80_24.mask[isour]) or \n",
    "         (c_58_24[isour] > 4.5 and c_80_24.mask[isour]) or \n",
    "         (c_80_24[isour] > 4.5))):\n",
    "        yso_type.append('ClassI')\n",
    "        \n",
    "    elif (c_58_24[isour] > 2.5 or \n",
    "         c_45_24[isour] > 2.5):\n",
    "        yso_type.append('TD')\n",
    "\n",
    "    else :\n",
    "        yso_type.append('Field')\n",
    "    \n",
    "    \n",
    "\n",
    "for isour in range(len(spitzerPSC)):\n",
    "    if (yso_type[isour] == 'ClassI' and\n",
    "        c_58_24[isour] < 4):\n",
    "        yso_type[isour] = 'ClassII'\n",
    "    \n",
    "    elif (yso_type[isour] == 'ClassI' and \n",
    "         c_58_24.mask[isour] == True and\n",
    "         c_45_24[isour] < 4):\n",
    "        yso_type[isour] = 'ClassII'"
   ]
  },
  {
   "cell_type": "code",
   "execution_count": 84,
   "metadata": {},
   "outputs": [],
   "source": [
    "yso_type = Column(yso_type, name = 'yso_type')\n",
    "\n",
    "spitzerPSC.add_column(yso_type)\n",
    "\n",
    "\n",
    "keysOld = ['_3.6mag', 'e_3.6mag', '_4.5mag', 'e_4.5mag', '_5.8mag', \n",
    "           'e_5.8mag', '_8.0mag', 'e_8.0mag', 'F_3.6_', 'e_F_3.6_', \n",
    "           'F_4.5_', 'e_F_4.5_', 'F_5.8_', 'e_F_5.8_', 'F_8.0_', \n",
    "           'e_F_8.0_','__24_', 'e__24_']\n",
    "keysNew = ['_3_6mag', 'e_3_6mag', '_4_5mag', 'e_4_5mag', '_5_8mag', \n",
    "           'e_5_8mag', '_8_0mag', 'e_8_0mag', 'F_3_6_', 'e_F_3_6_', \n",
    "           'F_4_5_', 'e_F_4_5_', 'F_5_8_', 'e_F_5_8_', 'F_8_0_', \n",
    "           'e_F_8_0_','_24mag', 'e_24mag']\n",
    "for ikey in range(len(keysOld)):\n",
    "    spitzerPSC[keysOld[ikey]].name = keysNew[ikey]\n",
    "\n",
    "ysoCat = spitzerPSC[spitzerPSC['yso_type'] != 'Field']\n",
    "ysoCat = ysoCat[ysoCat['yso_type'] != 'PAH_Knots']\n",
    "ysoCat = ysoCat[ysoCat['yso_type'] != 'Shock_Knots']\n",
    "ysoCat = ysoCat[ysoCat['yso_type'] != 'PAH_GAL']\n",
    "ysoCat = ysoCat[ysoCat['yso_type'] != 'AGN_GAL']\n",
    "ysoCat = ysoCat[ysoCat['yso_type'] != 'others']\n",
    "\n",
    "yso1 = ysoCat[ysoCat['yso_type'] != 'ClassII']\n",
    "yso1 = yso1[yso1['yso_type'] != 'TD']\n",
    "\n",
    "yso2 = ysoCat[ysoCat['yso_type'] != 'ClassI']\n",
    "yso2 = yso2[yso2['yso_type'] != 'TD']\n",
    "\n",
    "agnGAL = spitzerPSC[spitzerPSC['yso_type'] == 'AGN_GAL']\n",
    "PAH_GAL = spitzerPSC[spitzerPSC['yso_type'] == 'PAH_GAL']\n",
    "Shock_Knots = spitzerPSC[spitzerPSC['yso_type'] == 'Shock_Knots']\n",
    "PAH_Knots = spitzerPSC[spitzerPSC['yso_type'] == 'PAH_Knots']\n",
    "classI = spitzerPSC[spitzerPSC['yso_type'] == 'ClassI']\n",
    "classII = spitzerPSC[spitzerPSC['yso_type'] == 'ClassII']\n",
    "TD = spitzerPSC[spitzerPSC['yso_type'] == 'TD']\n",
    "field = spitzerPSC[spitzerPSC['yso_type'] == 'Field']"
   ]
  },
  {
   "cell_type": "code",
   "execution_count": 85,
   "metadata": {},
   "outputs": [
    {
     "data": {
      "image/png": "[encoded data removed]",
      "text/plain": [
       "<matplotlib.figure.Figure at 0x11d159898>"
      ]
     },
     "metadata": {},
     "output_type": "display_data"
    }
   ],
   "source": [
    "fig=plt.figure(figsize = (10,5))\n",
    "\n",
    "\n",
    "AK = 5\n",
    "\n",
    "A36 = 0.632*AK\n",
    "A45 = 0.53*AK\n",
    "A58 = 0.49*AK\n",
    "A80 = 0.49*AK\n",
    "AM1 = 0.48*AK\n",
    "\n",
    "field_IRAC = field[field['_8_0mag'].mask == False]\n",
    "ax1=fig.add_axes([0.1,0.1,0.35,0.7])\n",
    "ax2=fig.add_axes([0.55,0.1,0.35,0.7])\n",
    "# ax3=fig.add_axes([0.7,0.1,0.2,0.8])\n",
    "\n",
    "ax1.scatter(field_IRAC['_4_5mag']-field_IRAC['_5_8mag'],\n",
    "    field_IRAC['_3_6mag']-field_IRAC['_4_5mag'],c='y',edgecolor='black')\n",
    "ax1.scatter(classI['_4_5mag']-classI['_5_8mag'],\n",
    "    classI['_3_6mag']-classI['_4_5mag'],marker=\"*\",c = 'k')\n",
    "\n",
    "ax1.arrow(-1.0,2,A45-A58,A36-A45, width = 0.004, head_width = 0.07, \n",
    "          color='c')\n",
    "ax1.text(-1.2,2.6,r'$A_k=5$',rotation=58)\n",
    "ax1.text(1,3,r'ClassI',rotation=45)\n",
    "ax1.set_xlabel('[4.5]-[5.8]', fontsize = 14)\n",
    "ax1.set_ylabel('[3.6]-[4.5]', fontsize = 14)\n",
    "ax1.grid(True)\n",
    "ax1.plot([0.7,0.7],[0.7,4],c='k')\n",
    "ax1.plot([2,0.7],[0.7,0.7],c='k')\n",
    "ax1.set_xlim([-1.5,2])\n",
    "ax1.set_ylim([-2,4])\n",
    "ax1.errorbar(1.5, -1.5, yerr = 0.055, xerr = 0.043)\n",
    "\n",
    "ax2.scatter(field_IRAC['_4_5mag']-field_IRAC['_8_0mag'],\n",
    "    field_IRAC['_3_6mag']-field_IRAC['_5_8mag'],c='y', edgecolor='black')\n",
    "ax2.scatter(classII['_4_5mag']-classII['_8_0mag'],\n",
    "     classII['_3_6mag']-classII['_5_8mag'],marker=\"^\",edgecolor='black')\n",
    "\n",
    "ax2.arrow(-1,1,A45-A80,A36-A58, width = 0.004, head_width = 0.07,\n",
    "          color='c')\n",
    "ax2.text(-1.3,1.5,r'$A_k=5$',rotation=70)\n",
    "ax2.text(2,1,r'ClassII')\n",
    "ax2.set_xlabel('[4.5]-[8.0]', fontsize = 14)\n",
    "ax2.set_ylabel('[3.6]-[5.8]', fontsize = 14)\n",
    "ax2.grid(True)\n",
    "ax2.plot([0.5,0.5],[0.5,0.35],c='k')\n",
    "ax2.plot([0.5,1.2],[0.5,3],c='k')\n",
    "ax2.plot([0.5,3],[0.35,0.35],c='k')\n",
    "ax2.set_xlim([-1.5,3])\n",
    "ax2.set_ylim([-1,3])\n",
    "ax2.errorbar(2.5, -0.75, yerr = 0.052, xerr = 0.043)\n",
    "\n",
    "# ax3.scatter(field_IRAC['_3_6mag']-field_IRAC['_4_5mag'],\n",
    "#             field_IRAC['Kmag']-field_IRAC['_3_6mag'],c='y')\n",
    "# ax3.scatter(classI['_3_6mag']-classI['_4_5mag'],\n",
    "#             classI['Kmag']-classI['_3_6mag'],marker=\"*\")\n",
    "# ax3.scatter(classII['_3_6mag']-classII['_4_5mag'],\n",
    "#     classII['Kmag']-classII['_3_6mag'], marker=\"^\")\n",
    "\n",
    "# ax3.arrow(-1,1,A36-A45,AK-A36, width = 0.004, \n",
    "#           color='c')\n",
    "# ax3.text(-1.3,1.5,r'$A_k=5$',rotation=70)\n",
    "# ax3.text(0.5,0,r'ClassII')\n",
    "# ax3.text(1.5,1,r'ClassI')\n",
    "# ax3.set_xlabel('$[[3.6]-[4.5]]_0$')\n",
    "# ax3.set_ylabel('$[K-[3.6]]_0$')\n",
    "# ax3.grid(True)\n",
    "# ax3.plot([0.101,0.101],[0.5,4],c='k')\n",
    "# ax3.plot([0.101,0.28],[0.5,0],c='k')\n",
    "# ax3.plot([0.28,3],[0,0],c='k')\n",
    "# ax3.plot([0.101,0.996],[2.557142,0],c='k')\n",
    "# ax3.set_xlim([-1.5,2])\n",
    "# ax3.set_ylim([-1,4])\n",
    "\n",
    "fig.savefig('ClassI_ClassII.pdf')"
   ]
  },
  {
   "cell_type": "code",
   "execution_count": 25,
   "metadata": {},
   "outputs": [
    {
     "name": "stdout",
     "output_type": "stream",
     "text": [
      "There are 648 broad-line AGNe, 4 PAH galaxies, 6 unresolved knots of shock emission, and 2864 objects that suffer from structured PAH aperture contamination.\n",
      "228 YSOs have been identified including 55 Class I, 127 ClassII, and 46 transition disks.\n"
     ]
    }
   ],
   "source": [
    "print('There are', len(agnGAL), 'broad-line AGNe,', len(PAH_GAL), 'PAH galaxies,',\n",
    "     len(Shock_Knots), 'unresolved knots of shock emission, and', \n",
    "     len(PAH_Knots), 'objects that suffer from structured PAH aperture contamination.')\n",
    "\n",
    "print(len(ysoCat), 'YSOs have been identified including', \n",
    "      len(classI), 'Class I,', len(classII), 'ClassII, and',\n",
    "     len(TD), 'transition disks.')\n"
   ]
  },
  {
   "cell_type": "code",
   "execution_count": 88,
   "metadata": {},
   "outputs": [
    {
     "data": {
      "image/png": "[encoded data removed]",
      "text/plain": [
       "<matplotlib.figure.Figure at 0x11f174ac8>"
      ]
     },
     "metadata": {},
     "output_type": "display_data"
    }
   ],
   "source": [
    "fig1=plt.figure(figsize = (16,5))\n",
    "\n",
    "field_IRAC = field[field['_8_0mag'].mask == False]\n",
    "\n",
    "ax4=fig1.add_subplot(1,2,1)\n",
    "ax5=fig1.add_subplot(1,2,2)\n",
    "\n",
    "ax4.scatter(field_IRAC['_5_8mag']-field_IRAC['_24mag'],\n",
    "    field_IRAC['_4_5mag']-field_IRAC['_5_8mag'],c='y',edgecolor='black')\n",
    "ax4.scatter(TD['_5_8mag']-TD['_24mag'],\n",
    "    TD['_4_5mag']-TD['_5_8mag'],c='r',edgecolor='black')\n",
    "\n",
    "ax4.arrow(0,1,A58-AM1,A45-A58, width = 0.004, head_width = 0.07, \n",
    "          color='c')\n",
    "ax4.text(-0.4,1.2,r'$A_k=5$',rotation=80,fontsize = 13)\n",
    "ax4.set_xlabel('[5.8]-[24]',fontsize = 16)\n",
    "ax4.set_ylabel('[4.5]-[5.8]',fontsize = 16)\n",
    "ax4.set_xlim([-1,6])\n",
    "ax4.set_ylim([-0.5,2.5])\n",
    "ax4.errorbar(0, 2, xerr = 0.051, yerr = 0.052)\n",
    "\n",
    "\n",
    "ax5.scatter(field_IRAC['_4_5mag']-field_IRAC['_24mag'],\n",
    "    field_IRAC['_3_6mag']-field_IRAC['_4_5mag'],c='y',edgecolor='black')\n",
    "ax5.scatter(TD['_4_5mag']-TD['_24mag'],\n",
    "    TD['_3_6mag']-TD['_4_5mag'],c='r',edgecolor='black')\n",
    "\n",
    "ax5.arrow(0,1,A45-AM1,A36-A45, width = 0.004, head_width = 0.07,\n",
    "          color='c')\n",
    "ax5.text(-0.3,1.5,r'$A_k=5$',rotation=65,fontsize = 13)\n",
    "ax5.set_xlabel('[4.5]-[24]',fontsize = 16)\n",
    "ax5.set_ylabel('[3.6]-[4.5]',fontsize = 16)\n",
    "ax5.set_xlim([-1,6])\n",
    "ax5.set_ylim([-0.5,2.5])\n",
    "ax5.errorbar(0, 2, xerr = 0.050, yerr = 0.045)\n",
    "\n",
    "mpl.rc('xtick', labelsize = 16)\n",
    "mpl.rc('ytick', labelsize = 16)\n",
    "\n",
    "fig1.savefig('cTD.pdf')"
   ]
  },
  {
   "cell_type": "code",
   "execution_count": 36,
   "metadata": {},
   "outputs": [
    {
     "name": "stderr",
     "output_type": "stream",
     "text": [
      "WARNING: AstropyDeprecationWarning: yso1.txt already exists. Automatically overwriting ASCII files is deprecated. Use the argument 'overwrite=True' in the future. [astropy.io.ascii.ui]\n",
      "WARNING: Table metadata keyword(s) ['name', 'description', 'ID'] were not written.  IPAC metadata must be in the form {'keywords':{'keyword': {'value': value} } [astropy.io.ascii.ipac]\n",
      "WARNING: AstropyDeprecationWarning: yso2.txt already exists. Automatically overwriting ASCII files is deprecated. Use the argument 'overwrite=True' in the future. [astropy.io.ascii.ui]\n",
      "WARNING: AstropyDeprecationWarning: yso1_coor.txt already exists. Automatically overwriting ASCII files is deprecated. Use the argument 'overwrite=True' in the future. [astropy.io.ascii.ui]\n",
      "WARNING: AstropyDeprecationWarning: yso2_coor.txt already exists. Automatically overwriting ASCII files is deprecated. Use the argument 'overwrite=True' in the future. [astropy.io.ascii.ui]\n"
     ]
    }
   ],
   "source": [
    "import aplpy as ap\n",
    "from astropy.io import fits\n",
    "yso1.write('yso1.txt',format = 'ipac')\n",
    "yso2.write('yso2.txt',format = 'ipac')\n",
    "\n",
    "indat = ascii.read('yso1.txt')\n",
    "indat1 = ascii.read('yso2.txt')\n",
    "\n",
    "newtbl = Table([indat['RAJ2000'],indat['DEJ2000']])\n",
    "newtbl1 = Table([indat1['RAJ2000'],indat1['DEJ2000']])\n",
    "\n",
    "newtbl.write('yso1_coor.txt',format='ascii.fixed_width_no_header',delimiter=None)\n",
    "newtbl1.write('yso2_coor.txt',format='ascii.fixed_width_no_header',delimiter=None)\n",
    "\n",
    "# hdulist = fits.open('N107_N.fits')\n",
    "# fb = ap.FITSFigure(hdulist)\n",
    "\n",
    "# data1=np.loadtxt('yso1_coor.txt')\n",
    "# data2=np.loadtxt('yso2_coor.txt')\n",
    "\n",
    "# ra,dec = data1[:,0],data1[:,1]\n",
    "# fb.show_markers(ra,dec,layer='scatter_set_1',edgecolor='black',\n",
    "#                 facecolor='black',marker='*',s=50)\n",
    "\n",
    "# ra1,dec1 = data2[:,0],data2[:,1]\n",
    "# fb.show_markers(ra1,dec1,layer='scatter_set_2',edgecolor='b',\n",
    "#                 facecolor='b',marker='^',s=50)\n",
    "\n",
    "\n",
    "# fb.show_colorscale(cmap = 'viridis')\n",
    "# # fb.show_contour('N107_N.fits',levels=4,colors = 'white')\n",
    "\n",
    "# fb.save('projection.pdf')"
   ]
  },
  {
   "cell_type": "code",
   "execution_count": 45,
   "metadata": {},
   "outputs": [
    {
     "name": "stderr",
     "output_type": "stream",
     "text": [
      "WARNING: AstropyDeprecationWarning: yso1v1.txt already exists. Automatically overwriting ASCII files is deprecated. Use the argument 'overwrite=True' in the future. [astropy.io.ascii.ui]\n",
      "WARNING: Table metadata keyword(s) ['name', 'description', 'ID'] were not written.  IPAC metadata must be in the form {'keywords':{'keyword': {'value': value} } [astropy.io.ascii.ipac]\n",
      "WARNING: AstropyDeprecationWarning: yso2v1.txt already exists. Automatically overwriting ASCII files is deprecated. Use the argument 'overwrite=True' in the future. [astropy.io.ascii.ui]\n"
     ]
    }
   ],
   "source": [
    "ysov1 = yso1['e_3_6mag', 'e_4_5mag', 'e_5_8mag', 'e_8_0mag']\n",
    "ysov1.write('yso1v1.txt',format = 'ipac')\n",
    "ysov2 = yso2['e_3_6mag', 'e_4_5mag', 'e_5_8mag', 'e_8_0mag']\n",
    "ysov2.write('yso2v1.txt',format = 'ipac')"
   ]
  },
  {
   "cell_type": "code",
   "execution_count": 50,
   "metadata": {},
   "outputs": [],
   "source": [
    "yso1v1 = ascii.read('yso1v1.txt')\n",
    "yso2v2 = ascii.read('yso2v1.txt')"
   ]
  },
  {
   "cell_type": "code",
   "execution_count": 55,
   "metadata": {},
   "outputs": [
    {
     "name": "stdout",
     "output_type": "stream",
     "text": [
      "0.113379412492 0.11582627228 0.105209315177 0.0867698104181\n"
     ]
    }
   ],
   "source": [
    "i1 = 0\n",
    "i2 = 0\n",
    "i3 = 0\n",
    "i4 = 0\n",
    "\n",
    "for i in range(45):\n",
    "    i1 += np.sqrt(yso1v1['e_3_6mag'][i]**2 + yso1v1['e_4_5mag'][i]**2)\n",
    "    i2 += np.sqrt(yso1v1['e_4_5mag'][i]**2 + yso1v1['e_5_8mag'][i]**2)\n",
    "    \n",
    "for k in range(127):\n",
    "    i3 += np.sqrt(yso2v2['e_3_6mag'][i]**2 + yso2v2['e_5_8mag'][i]**2)\n",
    "    i4 += np.sqrt(yso2v2['e_4_5mag'][i]**2 + yso2v2['e_8_0mag'][i]**2)\n",
    "\n",
    "i1 = i1/45\n",
    "i2 = i2/45\n",
    "i3 = i3/len(yso2v2)\n",
    "i4 = i4/len(yso2v2)\n",
    "    \n",
    "print(i1, i2, i3, i4)"
   ]
  },
  {
   "cell_type": "code",
   "execution_count": 56,
   "metadata": {},
   "outputs": [
    {
     "name": "stderr",
     "output_type": "stream",
     "text": [
      "/Users/wuyingtianhua/anaconda/lib/python3.5/site-packages/matplotlib/artist.py:221: MatplotlibDeprecationWarning: This has been deprecated in mpl 1.5, please use the\n",
      "axes property.  A removal date has not been set.\n",
      "  warnings.warn(_get_axes_msg, mplDeprecation, stacklevel=1)\n"
     ]
    }
   ],
   "source": []
  },
  {
   "cell_type": "code",
   "execution_count": 12,
   "metadata": {
    "collapsed": true
   },
   "outputs": [],
   "source": [
    "yso1 = ysoCat[ysoCat['yso_type'] != 'ClassII']\n",
    "yso1 = yso1[yso1['yso_type'] != 'TD']\n",
    "\n",
    "yso2 = ysoCat[ysoCat['yso_type'] != 'ClassI']\n",
    "yso2 = yso2[yso2['yso_type'] != 'TD']"
   ]
  },
  {
   "cell_type": "code",
   "execution_count": 12,
   "metadata": {
    "collapsed": true
   },
   "outputs": [],
   "source": [
    "yso1.write('yso1.txt',format = 'ipac')\n",
    "yso2.write('yso2.txt',format = 'ipac')"
   ]
  },
  {
   "cell_type": "code",
   "execution_count": 37,
   "metadata": {},
   "outputs": [],
   "source": [
    "fb.show_contour?"
   ]
  },
  {
   "cell_type": "code",
   "execution_count": 57,
   "metadata": {
    "collapsed": true
   },
   "outputs": [],
   "source": [
    "fb.show_colorscale?"
   ]
  },
  {
   "cell_type": "code",
   "execution_count": 43,
   "metadata": {},
   "outputs": [],
   "source": [
    "Vizier.query_region?"
   ]
  },
  {
   "cell_type": "code",
   "execution_count": 61,
   "metadata": {},
   "outputs": [
    {
     "data": {
      "text/html": [
       "&lt;Table masked=True length=46&gt;\n",
       "<table id=\"table5138552760\" class=\"table-striped table-bordered table-condensed\">\n",
       "<thead><tr><th>GLIMPSE</th><th>Glon</th><th>Glat</th><th>RAJ2000</th><th>DEJ2000</th><th>csf</th><th>_3_6mag</th><th>e_3_6mag</th><th>_4_5mag</th><th>e_4_5mag</th><th>_5_8mag</th><th>e_5_8mag</th><th>_8_0mag</th><th>e_8_0mag</th><th>F_3_6_</th><th>e_F_3_6_</th><th>F_4_5_</th><th>e_F_4_5_</th><th>F_5_8_</th><th>e_F_5_8_</th><th>F_8_0_</th><th>e_F_8_0_</th><th>MIPSGAL</th><th>S24</th><th>e_S24</th><th>_24mag</th><th>e_24mag</th><th>yso_type</th></tr></thead>\n",
       "<thead><tr><th></th><th>deg</th><th>deg</th><th>deg</th><th>deg</th><th></th><th>mag</th><th>mag</th><th>mag</th><th>mag</th><th>mag</th><th>mag</th><th>mag</th><th>mag</th><th>mJy</th><th>mJy</th><th>mJy</th><th>mJy</th><th>mJy</th><th>mJy</th><th>mJy</th><th>mJy</th><th></th><th>mJy</th><th>mJy</th><th>mag</th><th>mag</th><th></th></tr></thead>\n",
       "<thead><tr><th>bytes17</th><th>float64</th><th>float64</th><th>float64</th><th>float64</th><th>uint8</th><th>float32</th><th>float32</th><th>float32</th><th>float32</th><th>float32</th><th>float32</th><th>float32</th><th>float32</th><th>float32</th><th>float32</th><th>float32</th><th>float32</th><th>float32</th><th>float32</th><th>float32</th><th>float32</th><th>bytes18</th><th>float64</th><th>float32</th><th>float32</th><th>float32</th><th>str11</th></tr></thead>\n",
       "<tr><td>G050.5020+00.0432</td><td>50.502021</td><td>0.043231</td><td>291.035800</td><td>15.605177</td><td>0</td><td>--</td><td>--</td><td>13.737</td><td>0.165</td><td>--</td><td>--</td><td>--</td><td>--</td><td>0.38</td><td>0.0764</td><td>0.575</td><td>0.0872</td><td>--</td><td>--</td><td>--</td><td>--</td><td>MG050.5021+00.0435</td><td>3.213</td><td>0.314</td><td>8.39</td><td>0.11</td><td>TD</td></tr>\n",
       "<tr><td>G050.5203+00.0664</td><td>50.520379</td><td>0.066436</td><td>291.023593</td><td>15.632330</td><td>0</td><td>12.572</td><td>0.061</td><td>11.876</td><td>0.101</td><td>11.803</td><td>0.141</td><td>11.460</td><td>0.065</td><td>2.63</td><td>0.147</td><td>3.19</td><td>0.296</td><td>2.19</td><td>0.283</td><td>1.67</td><td>0.101</td><td>MG050.5204+00.0666</td><td>6.337</td><td>0.360</td><td>7.65</td><td>0.06</td><td>TD</td></tr>\n",
       "<tr><td>G050.5291-00.0658</td><td>50.529159</td><td>-0.065875</td><td>291.148912</td><td>15.577424</td><td>0</td><td>12.269</td><td>0.072</td><td>11.987</td><td>0.085</td><td>11.960</td><td>0.103</td><td>11.399</td><td>0.084</td><td>3.48</td><td>0.232</td><td>2.88</td><td>0.225</td><td>1.89</td><td>0.179</td><td>1.77</td><td>0.137</td><td>MG050.5291-00.0657</td><td>2.005</td><td>0.220</td><td>8.90</td><td>0.12</td><td>TD</td></tr>\n",
       "<tr><td>G050.5912-00.1724</td><td>50.591261</td><td>-0.172486</td><td>291.276926</td><td>15.581578</td><td>0</td><td>--</td><td>--</td><td>3.318</td><td>0.115</td><td>--</td><td>--</td><td>--</td><td>--</td><td>--</td><td>--</td><td>8.46e+03</td><td>893</td><td>--</td><td>--</td><td>--</td><td>--</td><td>MG050.5912-00.1724</td><td>3765.515</td><td>69.366</td><td>0.72</td><td>0.02</td><td>TD</td></tr>\n",
       "<tr><td>G050.6159-00.0497</td><td>50.615896</td><td>-0.049736</td><td>291.176822</td><td>15.661455</td><td>0</td><td>12.425</td><td>0.054</td><td>12.378</td><td>0.090</td><td>12.249</td><td>0.161</td><td>12.032</td><td>0.167</td><td>3.01</td><td>0.149</td><td>2.01</td><td>0.167</td><td>1.45</td><td>0.215</td><td>0.987</td><td>0.152</td><td>MG050.6157-00.0495</td><td>2.077</td><td>0.303</td><td>8.87</td><td>0.16</td><td>TD</td></tr>\n",
       "<tr><td>G050.6466-00.1461</td><td>50.646634</td><td>-0.146136</td><td>291.280103</td><td>15.642824</td><td>0</td><td>13.589</td><td>0.082</td><td>13.284</td><td>0.102</td><td>--</td><td>--</td><td>--</td><td>--</td><td>1.03</td><td>0.0777</td><td>0.873</td><td>0.082</td><td>--</td><td>--</td><td>--</td><td>--</td><td>MG050.6462-00.1458</td><td>2.903</td><td>0.289</td><td>8.50</td><td>0.11</td><td>TD</td></tr>\n",
       "<tr><td>G050.6548-00.2265</td><td>50.654837</td><td>-0.226578</td><td>291.357677</td><td>15.611884</td><td>0</td><td>12.923</td><td>0.064</td><td>12.638</td><td>0.100</td><td>--</td><td>--</td><td>--</td><td>--</td><td>1.9</td><td>0.112</td><td>1.58</td><td>0.145</td><td>--</td><td>--</td><td>1.5</td><td>0.282</td><td>MG050.6549-00.2263</td><td>4.640</td><td>0.397</td><td>7.99</td><td>0.09</td><td>TD</td></tr>\n",
       "<tr><td>G050.6589+00.1636</td><td>50.658940</td><td>0.163619</td><td>291.002753</td><td>15.800381</td><td>0</td><td>9.457</td><td>0.098</td><td>9.364</td><td>0.076</td><td>8.957</td><td>0.038</td><td>8.366</td><td>0.031</td><td>46.3</td><td>4.2</td><td>32.3</td><td>2.26</td><td>30.1</td><td>1.06</td><td>28.9</td><td>0.815</td><td>MG050.6590+00.1638</td><td>23.365</td><td>0.640</td><td>6.24</td><td>0.03</td><td>TD</td></tr>\n",
       "<tr><td>G050.6598-00.1364</td><td>50.659801</td><td>-0.136431</td><td>291.277716</td><td>15.659019</td><td>0</td><td>12.609</td><td>0.065</td><td>12.477</td><td>0.100</td><td>12.245</td><td>0.160</td><td>--</td><td>--</td><td>2.54</td><td>0.152</td><td>1.84</td><td>0.169</td><td>1.45</td><td>0.214</td><td>0.722</td><td>0.184</td><td>MG050.6598-00.1363</td><td>3.323</td><td>0.290</td><td>8.36</td><td>0.10</td><td>TD</td></tr>\n",
       "<tr><td>...</td><td>...</td><td>...</td><td>...</td><td>...</td><td>...</td><td>...</td><td>...</td><td>...</td><td>...</td><td>...</td><td>...</td><td>...</td><td>...</td><td>...</td><td>...</td><td>...</td><td>...</td><td>...</td><td>...</td><td>...</td><td>...</td><td>...</td><td>...</td><td>...</td><td>...</td><td>...</td><td>...</td></tr>\n",
       "<tr><td>G051.3346+00.2270</td><td>51.334676</td><td>0.227081</td><td>291.277725</td><td>16.425567</td><td>0</td><td>13.259</td><td>0.078</td><td>13.026</td><td>0.108</td><td>--</td><td>--</td><td>10.778</td><td>0.132</td><td>1.4</td><td>0.101</td><td>1.11</td><td>0.11</td><td>--</td><td>--</td><td>3.13</td><td>0.38</td><td>MG051.3347+00.2273</td><td>7.898</td><td>0.667</td><td>7.42</td><td>0.09</td><td>TD</td></tr>\n",
       "<tr><td>G051.3519-00.0839</td><td>51.351912</td><td>-0.083978</td><td>291.571557</td><td>16.293027</td><td>0</td><td>8.175</td><td>0.035</td><td>8.055</td><td>0.047</td><td>7.664</td><td>0.033</td><td>7.442</td><td>0.035</td><td>151</td><td>4.82</td><td>108</td><td>4.7</td><td>98.9</td><td>3.01</td><td>67.6</td><td>2.19</td><td>MG051.3518-00.0839</td><td>51.102</td><td>4.155</td><td>5.39</td><td>0.09</td><td>TD</td></tr>\n",
       "<tr><td>G051.3621+00.3253</td><td>51.362099</td><td>0.325375</td><td>291.201033</td><td>16.496309</td><td>2</td><td>12.862</td><td>0.070</td><td>12.655</td><td>0.116</td><td>--</td><td>--</td><td>12.156</td><td>0.161</td><td>2.01</td><td>0.13</td><td>1.56</td><td>0.167</td><td>--</td><td>--</td><td>0.881</td><td>0.13</td><td>MG051.3622+00.3255</td><td>2.058</td><td>0.353</td><td>8.88</td><td>0.19</td><td>TD</td></tr>\n",
       "<tr><td>G051.3683-00.0821</td><td>51.368304</td><td>-0.082136</td><td>291.577990</td><td>16.308323</td><td>0</td><td>14.054</td><td>0.112</td><td>12.978</td><td>0.166</td><td>--</td><td>--</td><td>--</td><td>--</td><td>0.671</td><td>0.069</td><td>1.16</td><td>0.177</td><td>1.16</td><td>0.316</td><td>--</td><td>--</td><td>MG051.3679-00.0820</td><td>3.667</td><td>0.607</td><td>8.25</td><td>0.18</td><td>TD</td></tr>\n",
       "<tr><td>G051.3708-00.0438</td><td>51.370887</td><td>-0.043881</td><td>291.544202</td><td>16.328784</td><td>0</td><td>--</td><td>--</td><td>11.979</td><td>0.101</td><td>9.835</td><td>0.063</td><td>8.396</td><td>0.048</td><td>--</td><td>--</td><td>2.9</td><td>0.269</td><td>13.4</td><td>0.774</td><td>28.1</td><td>1.25</td><td>MG051.3709-00.0439</td><td>122.254</td><td>7.887</td><td>4.44</td><td>0.07</td><td>TD</td></tr>\n",
       "<tr><td>G051.3888-00.0432</td><td>51.388882</td><td>-0.043286</td><td>291.552571</td><td>16.344898</td><td>0</td><td>--</td><td>--</td><td>12.676</td><td>0.156</td><td>11.987</td><td>0.155</td><td>10.937</td><td>0.072</td><td>--</td><td>--</td><td>1.53</td><td>0.219</td><td>1.85</td><td>0.264</td><td>2.71</td><td>0.179</td><td>MG051.3891-00.0431</td><td>16.525</td><td>0.842</td><td>6.61</td><td>0.06</td><td>TD</td></tr>\n",
       "<tr><td>G051.4002+00.2403</td><td>51.400200</td><td>0.240356</td><td>291.297942</td><td>16.489548</td><td>0</td><td>13.775</td><td>0.090</td><td>13.582</td><td>0.160</td><td>--</td><td>--</td><td>--</td><td>--</td><td>0.868</td><td>0.0719</td><td>0.664</td><td>0.0979</td><td>--</td><td>--</td><td>--</td><td>--</td><td>MG051.4003+00.2404</td><td>5.317</td><td>0.348</td><td>7.84</td><td>0.07</td><td>TD</td></tr>\n",
       "<tr><td>G051.4059-00.1283</td><td>51.405962</td><td>-0.128339</td><td>291.639000</td><td>16.319472</td><td>0</td><td>13.036</td><td>0.063</td><td>12.795</td><td>0.090</td><td>--</td><td>--</td><td>11.542</td><td>0.173</td><td>1.72</td><td>0.0995</td><td>1.37</td><td>0.113</td><td>--</td><td>--</td><td>1.55</td><td>0.247</td><td>MG051.4062-00.1282</td><td>7.511</td><td>0.430</td><td>7.47</td><td>0.06</td><td>TD</td></tr>\n",
       "<tr><td>G051.4098-00.0119</td><td>51.409846</td><td>-0.011931</td><td>291.534207</td><td>16.378247</td><td>0</td><td>10.394</td><td>0.054</td><td>10.197</td><td>0.047</td><td>9.835</td><td>0.058</td><td>9.822</td><td>0.040</td><td>19.5</td><td>0.965</td><td>15</td><td>0.65</td><td>13.4</td><td>0.719</td><td>7.55</td><td>0.281</td><td>MG051.4100-00.0114</td><td>19.272</td><td>1.091</td><td>6.45</td><td>0.06</td><td>TD</td></tr>\n",
       "<tr><td>G051.4470+00.0466</td><td>51.447001</td><td>0.046667</td><td>291.498868</td><td>16.438787</td><td>0</td><td>13.890</td><td>0.091</td><td>13.706</td><td>0.170</td><td>--</td><td>--</td><td>--</td><td>--</td><td>0.781</td><td>0.0658</td><td>0.592</td><td>0.0928</td><td>--</td><td>--</td><td>--</td><td>--</td><td>MG051.4470+00.0470</td><td>2.822</td><td>0.386</td><td>8.53</td><td>0.15</td><td>TD</td></tr>\n",
       "</table>"
      ],
      "text/plain": [
       "<Table masked=True length=46>\n",
       "     GLIMPSE         Glon       Glat     RAJ2000   ...  _24mag e_24mag yso_type\n",
       "                     deg        deg        deg     ...   mag     mag           \n",
       "     bytes17       float64    float64    float64   ... float32 float32  str11  \n",
       "----------------- ---------- ---------- ---------- ... ------- ------- --------\n",
       "G050.5020+00.0432  50.502021   0.043231 291.035800 ...    8.39    0.11       TD\n",
       "G050.5203+00.0664  50.520379   0.066436 291.023593 ...    7.65    0.06       TD\n",
       "G050.5291-00.0658  50.529159  -0.065875 291.148912 ...    8.90    0.12       TD\n",
       "G050.5912-00.1724  50.591261  -0.172486 291.276926 ...    0.72    0.02       TD\n",
       "G050.6159-00.0497  50.615896  -0.049736 291.176822 ...    8.87    0.16       TD\n",
       "G050.6466-00.1461  50.646634  -0.146136 291.280103 ...    8.50    0.11       TD\n",
       "G050.6548-00.2265  50.654837  -0.226578 291.357677 ...    7.99    0.09       TD\n",
       "G050.6589+00.1636  50.658940   0.163619 291.002753 ...    6.24    0.03       TD\n",
       "G050.6598-00.1364  50.659801  -0.136431 291.277716 ...    8.36    0.10       TD\n",
       "              ...        ...        ...        ... ...     ...     ...      ...\n",
       "G051.3346+00.2270  51.334676   0.227081 291.277725 ...    7.42    0.09       TD\n",
       "G051.3519-00.0839  51.351912  -0.083978 291.571557 ...    5.39    0.09       TD\n",
       "G051.3621+00.3253  51.362099   0.325375 291.201033 ...    8.88    0.19       TD\n",
       "G051.3683-00.0821  51.368304  -0.082136 291.577990 ...    8.25    0.18       TD\n",
       "G051.3708-00.0438  51.370887  -0.043881 291.544202 ...    4.44    0.07       TD\n",
       "G051.3888-00.0432  51.388882  -0.043286 291.552571 ...    6.61    0.06       TD\n",
       "G051.4002+00.2403  51.400200   0.240356 291.297942 ...    7.84    0.07       TD\n",
       "G051.4059-00.1283  51.405962  -0.128339 291.639000 ...    7.47    0.06       TD\n",
       "G051.4098-00.0119  51.409846  -0.011931 291.534207 ...    6.45    0.06       TD\n",
       "G051.4470+00.0466  51.447001   0.046667 291.498868 ...    8.53    0.15       TD"
      ]
     },
     "execution_count": 61,
     "metadata": {},
     "output_type": "execute_result"
    }
   ],
   "source": [
    "TD"
   ]
  },
  {
   "cell_type": "code",
   "execution_count": 63,
   "metadata": {},
   "outputs": [
    {
     "name": "stderr",
     "output_type": "stream",
     "text": [
      "WARNING: AstropyDeprecationWarning: TD.txt already exists. Automatically overwriting ASCII files is deprecated. Use the argument 'overwrite=True' in the future. [astropy.io.ascii.ui]\n",
      "WARNING: Table metadata keyword(s) ['name', 'description', 'ID'] were not written.  IPAC metadata must be in the form {'keywords':{'keyword': {'value': value} } [astropy.io.ascii.ipac]\n"
     ]
    }
   ],
   "source": [
    "TD = TD['e_3_6mag', 'e_4_5mag', 'e_5_8mag', 'e_24mag']\n",
    "TD.write('TD.txt',format = 'ipac')"
   ]
  },
  {
   "cell_type": "code",
   "execution_count": 68,
   "metadata": {},
   "outputs": [
    {
     "name": "stdout",
     "output_type": "stream",
     "text": [
      "e_3_6mag e_4_5mag e_5_8mag e_24mag\n",
      "  mag      mag      mag      mag  \n",
      "-------- -------- -------- -------\n",
      "   0.061    0.101    0.141    0.06\n",
      "   0.072    0.085    0.103    0.12\n",
      "   0.054     0.09    0.161    0.16\n",
      "   0.098    0.076    0.038    0.03\n",
      "   0.065      0.1     0.16     0.1\n",
      "   0.037    0.074    0.034    0.02\n",
      "    0.06    0.045    0.033    0.02\n",
      "   0.038    0.062    0.048    0.05\n",
      "   0.056    0.058    0.043    0.02\n",
      "   0.039    0.042    0.032    0.02\n",
      "   0.077    0.105    0.152    0.09\n",
      "   0.045    0.066    0.079    0.13\n",
      "   0.047    0.048    0.027    0.02\n",
      "   0.035    0.062    0.044    0.07\n",
      "   0.035    0.047    0.033    0.09\n",
      "   0.054    0.047    0.058    0.06\n"
     ]
    }
   ],
   "source": [
    "TD_v1 = ascii.read('TD.txt')\n",
    "print(TD_v1)"
   ]
  },
  {
   "cell_type": "code",
   "execution_count": 70,
   "metadata": {},
   "outputs": [
    {
     "name": "stdout",
     "output_type": "stream",
     "text": [
      "0.0510099143123 0.0517686753798 0.0497500503007 0.0445210512985\n"
     ]
    }
   ],
   "source": [
    "i5 = 0\n",
    "i6 = 0\n",
    "i7 = 0\n",
    "i8 = 0\n",
    "\n",
    "for i in range(len(TD_v1)):\n",
    "    i5 += np.sqrt(TD_v1['e_5_8mag'][i]**2 + TD_v1['e_24mag'][i]**2)\n",
    "    i6 += np.sqrt(TD_v1['e_4_5mag'][i]**2 + TD_v1['e_5_8mag'][i]**2)\n",
    "    i7 += np.sqrt(TD_v1['e_4_5mag'][i]**2 + TD_v1['e_24mag'][i]**2)\n",
    "    i8 += np.sqrt(TD_v1['e_3_6mag'][i]**2 + TD_v1['e_4_5mag'][i]**2)\n",
    "    \n",
    "i5 = i5/len(TD_v1)\n",
    "i6 = i6/len(TD_v1)\n",
    "i7 = i7/len(TD_v1)\n",
    "i8 = i8/len(TD_v1)\n",
    "\n",
    "print(i5/2, i6/2, i7/2, i8/2)"
   ]
  },
  {
   "cell_type": "code",
   "execution_count": null,
   "metadata": {
    "collapsed": true
   },
   "outputs": [],
   "source": []
  }
 ],
 "metadata": {
  "anaconda-cloud": {},
  "kernelspec": {
   "display_name": "Python 3",
   "language": "python",
   "name": "python3"
  },
  "language_info": {
   "codemirror_mode": {
    "name": "ipython",
    "version": 3
   },
   "file_extension": ".py",
   "mimetype": "text/x-python",
   "name": "python",
   "nbconvert_exporter": "python",
   "pygments_lexer": "ipython3",
   "version": "3.6.4"
  }
 },
 "nbformat": 4,
 "nbformat_minor": 1
}
