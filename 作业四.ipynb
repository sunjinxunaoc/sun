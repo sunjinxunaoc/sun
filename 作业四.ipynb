{
 "cells": [
  {
   "cell_type": "code",
   "execution_count": 1,
   "metadata": {},
   "outputs": [
    {
     "name": "stdout",
     "output_type": "stream",
     "text": [
      "请输入end的值：3\n",
      "6\n"
     ]
    }
   ],
   "source": [
    "end=int(input(\"请输入end的值：\"))\n",
    "s=0\n",
    "i=1\n",
    "while i<=end:\n",
    "    s+=i\n",
    "    i+=1\n",
    "print(s)"
   ]
  },
  {
   "cell_type": "code",
   "execution_count": 1,
   "metadata": {},
   "outputs": [
    {
     "name": "stdout",
     "output_type": "stream",
     "text": [
      "请输入一个整数：6\n",
      "该数字被 2 和 3 同时整除\n"
     ]
    }
   ],
   "source": [
    "s=int(input(\"请输入一个整数：\"))#基本条件语句\n",
    "if s%2==0 and s%3==0:\n",
    "    print(\"该数字被 2 和 3 同时整除\")\n",
    "elif s%2==0 and s%3!=0:\n",
    "    print(\"该数字可以被2整除\")\n",
    "elif s%2!=0 and s%3==0:\n",
    "    print(\"该数字可以被3整除\")\n",
    "else:\n",
    "    print(\"该数字不能被2和3整除\")"
   ]
  },
  {
   "cell_type": "code",
   "execution_count": 10,
   "metadata": {},
   "outputs": [],
   "source": [
    "s=0\n",
    "for i in range(1,1000):\n",
    "    for a in range(1,i):\n",
    "        if i%a==0:\n",
    "            s=s+a\n",
    "    if s==i:\n",
    "        print(s)"
   ]
  },
  {
   "cell_type": "code",
   "execution_count": 9,
   "metadata": {},
   "outputs": [
    {
     "name": "stdout",
     "output_type": "stream",
     "text": [
      "6 的因子是 [1, 2, 3]\n",
      "28 的因子是 [1, 2, 4, 7, 14]\n",
      "496 的因子是 [1, 2, 4, 8, 16, 31, 62, 124, 248]\n"
     ]
    }
   ],
   "source": [
    "l=[]\n",
    "for n in range (1,1000):  \n",
    "    for a in range (1,n):  \n",
    "        if n%a ==0:  \n",
    "            l.append(a)  \n",
    "    if sum(l)==n:  \n",
    "         \n",
    "        print (n,\"的因子是\",l) \n",
    "    l=[]\n",
    " "
   ]
  },
  {
   "cell_type": "code",
   "execution_count": 3,
   "metadata": {},
   "outputs": [
    {
     "name": "stdout",
     "output_type": "stream",
     "text": [
      "153\n",
      "370\n",
      "371\n",
      "407\n"
     ]
    }
   ],
   "source": [
    "for i in range(100,1000):\n",
    "    a=i%10#取出个位数\n",
    "    b=(i//10)%10#取出十位数\n",
    "    c=(i//100)#取出百位数\n",
    "    s=a**3+b**3+c**3\n",
    "    if s==i:\n",
    "        print(i)"
   ]
  },
  {
   "cell_type": "code",
   "execution_count": 18,
   "metadata": {},
   "outputs": [
    {
     "name": "stdout",
     "output_type": "stream",
     "text": [
      "1\n",
      "1\n",
      "2\n",
      "3\n",
      "5\n",
      "8\n",
      "13\n"
     ]
    }
   ],
   "source": [
    "def f(max):\n",
    "    a,n,b=0,0,1\n",
    "    while n<=max:\n",
    "        \n",
    "        yield b\n",
    "        a,b=b,a+b\n",
    "        n=n+1\n",
    "for i in f(6):\n",
    "    print(i)"
   ]
  },
  {
   "cell_type": "code",
   "execution_count": null,
   "metadata": {},
   "outputs": [],
   "source": []
  }
 ],
 "metadata": {
  "kernelspec": {
   "display_name": "Python 3",
   "language": "python",
   "name": "python3"
  },
  "language_info": {
   "codemirror_mode": {
    "name": "ipython",
    "version": 3
   },
   "file_extension": ".py",
   "mimetype": "text/x-python",
   "name": "python",
   "nbconvert_exporter": "python",
   "pygments_lexer": "ipython3",
   "version": "3.6.4"
  }
 },
 "nbformat": 4,
 "nbformat_minor": 2
}
